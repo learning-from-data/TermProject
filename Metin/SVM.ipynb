import numpy as np
import pandas as pd
from sklearn.model_selection import StratifiedKFold
from sklearn.metrics import f1_score
from sklearn.preprocessing import LabelEncoder, StandardScaler
from sklearn.svm import SVC

# Verileri Yükleme
X_train_1 = np.load('/kaggle/input/lfd-kaggle/train_feats.npy', allow_pickle=True).item()
labels_df = pd.read_csv('/kaggle/input/lfd-kaggle/train_labels.csv')

y_train = labels_df['label'].values

X_train_resnet = X_train_1['resnet_feature']
X_train_vit = X_train_1['vit_feature']
X_train_clip = X_train_1['clip_feature']
X_train_dino = X_train_1['dino_feature']

X_train_combined_train = np.concatenate([X_train_resnet, X_train_vit, X_train_clip, X_train_dino], axis=1)

# Label Encoding
label_encoder = LabelEncoder()
y_train_encoded = label_encoder.fit_transform(y_train)

# Verileri Ölçeklendirme
scaler = StandardScaler()
X_train_combined_train = scaler.fit_transform(X_train_combined_train)

# 5-Fold Cross-Validation
skf = StratifiedKFold(n_splits=5, shuffle=True, random_state=42)

f1_scores = []
for train_idx, val_idx in skf.split(X_train_combined_train, y_train_encoded):
    X_train_split, X_val_split = X_train_combined_train[train_idx], X_train_combined_train[val_idx]
    y_train_split, y_val_split = y_train_encoded[train_idx], y_train_encoded[val_idx]

    # SVM Modeli Oluşturma
    model = SVC(C=1.0, kernel='rbf', gamma='scale', probability=True, random_state=42)

    # Modeli Eğitme
    model.fit(X_train_split, y_train_split)

    # Doğrulama Setinde Tahmin Yapma
    y_val_pred = model.predict(X_val_split)

    # F1 Skorunu Hesaplama
    f1 = f1_score(y_val_split, y_val_pred, average='macro')
    f1_scores.append(f1)

# Ortalama F1 Skorunu Yazdırma
print(f"Mean Validation F1 Score (5-Fold CV): {np.mean(f1_scores):.4f}")

# Test Verisi ile Tahmin Yapma
X_valtest = np.load('/kaggle/input/lfd-kaggle/valtest_feats.npy', allow_pickle=True).item()
X_val_resnet = X_valtest['resnet_feature']
X_val_vit = X_valtest['vit_feature']
X_val_clip = X_valtest['clip_feature']
X_val_dino = X_valtest['dino_feature']

X_val_combined = np.concatenate([X_val_resnet, X_val_vit, X_val_clip, X_val_dino], axis=1)
X_val_combined = scaler.transform(X_val_combined)

# Modeli Tüm Eğitim Verisiyle Yeniden Eğitme
model.fit(X_train_combined_train, y_train_encoded)

predictions = model.predict(X_val_combined)

# Tahminleri Kaydetme
prediction_df = pd.DataFrame({
    'ID': np.arange(len(predictions)),
    'Predicted': predictions
})
prediction_df.to_csv('svm_predictions.csv', index=False)
Mean Validation F1 Score (5-Fold CV): 0.9883
